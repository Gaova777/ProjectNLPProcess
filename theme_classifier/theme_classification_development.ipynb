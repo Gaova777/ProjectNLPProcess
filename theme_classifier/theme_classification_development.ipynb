{
 "cells": [
  {
   "cell_type": "code",
   "execution_count": 1,
   "metadata": {},
   "outputs": [
    {
     "name": "stderr",
     "output_type": "stream",
     "text": [
      "c:\\Users\\gaova\\anaconda3\\envs\\chatnarutobot\\lib\\site-packages\\tqdm\\auto.py:21: TqdmWarning: IProgress not found. Please update jupyter and ipywidgets. See https://ipywidgets.readthedocs.io/en/stable/user_install.html\n",
      "  from .autonotebook import tqdm as notebook_tqdm\n"
     ]
    },
    {
     "name": "stdout",
     "output_type": "stream",
     "text": [
      "PyTorch disponible en transformers: True\n"
     ]
    }
   ],
   "source": [
    "import os\n",
    "import torch\n",
    "import transformers.utils\n",
    "from transformers import pipeline\n",
    "import nltk\n",
    "from nltk.tokenize import sent_tokenize\n",
    "from glob import glob\n",
    "import pandas as pd\n",
    "import numpy as np\n",
    "# Asegura que PyTorch está activado en transformers\n",
    "os.environ[\"USE_TORCH\"] = \"1\"\n",
    "os.environ[\"USE_TF\"] = \"0\"\n",
    "\n",
    "print(\"PyTorch disponible en transformers:\", transformers.utils.is_torch_available())"
   ]
  },
  {
   "cell_type": "code",
   "execution_count": 2,
   "metadata": {},
   "outputs": [
    {
     "name": "stderr",
     "output_type": "stream",
     "text": [
      "[nltk_data] Downloading package punkt to\n",
      "[nltk_data]     C:\\Users\\gaova\\AppData\\Roaming\\nltk_data...\n",
      "[nltk_data]   Package punkt is already up-to-date!\n"
     ]
    },
    {
     "data": {
      "text/plain": [
       "True"
      ]
     },
     "execution_count": 2,
     "metadata": {},
     "output_type": "execute_result"
    }
   ],
   "source": [
    "nltk.download('punkt') # Download the Punkt tokenizer for sentence splitting"
   ]
  },
  {
   "cell_type": "markdown",
   "metadata": {},
   "source": [
    "### ***LoadModel***"
   ]
  },
  {
   "cell_type": "code",
   "execution_count": 3,
   "metadata": {},
   "outputs": [],
   "source": [
    "model_name = \"facebook/bart-large-mnli\"\n",
    "device = 0 if torch.cuda.is_available() else -1  # -1 fuerza CPU\n"
   ]
  },
  {
   "cell_type": "code",
   "execution_count": 4,
   "metadata": {},
   "outputs": [],
   "source": [
    "def load_model(device):\n",
    "    theme_classifier = pipeline(\n",
    "        \"zero-shot-classification\",\n",
    "        model=model_name,\n",
    "        device=device\n",
    "    )\n",
    "    return theme_classifier"
   ]
  },
  {
   "cell_type": "code",
   "execution_count": 5,
   "metadata": {},
   "outputs": [
    {
     "name": "stderr",
     "output_type": "stream",
     "text": [
      "Device set to use cpu\n"
     ]
    }
   ],
   "source": [
    "theme_classifier = load_model(device)"
   ]
  },
  {
   "cell_type": "code",
   "execution_count": 6,
   "metadata": {},
   "outputs": [],
   "source": [
    "theme_list = [\"friendship\",\"hope\",\"sacrifice\",\"battle\",\"self development\",\"betrayal\",\"love\",\"dialogue\"]"
   ]
  },
  {
   "cell_type": "code",
   "execution_count": 7,
   "metadata": {},
   "outputs": [
    {
     "data": {
      "text/plain": [
       "{'sequence': 'I gave him a right hook then a left jab',\n",
       " 'labels': ['battle',\n",
       "  'self development',\n",
       "  'hope',\n",
       "  'sacrifice',\n",
       "  'dialogue',\n",
       "  'betrayal',\n",
       "  'love',\n",
       "  'friendship'],\n",
       " 'scores': [0.9121254682540894,\n",
       "  0.475002646446228,\n",
       "  0.08781813830137253,\n",
       "  0.045000508427619934,\n",
       "  0.020133016631007195,\n",
       "  0.012040519155561924,\n",
       "  0.004292406141757965,\n",
       "  0.0028172244783490896]}"
      ]
     },
     "execution_count": 7,
     "metadata": {},
     "output_type": "execute_result"
    }
   ],
   "source": [
    "theme_classifier(\n",
    "    \"I gave him a right hook then a left jab\",\n",
    "    theme_list,\n",
    "    multi_label=True\n",
    ")"
   ]
  },
  {
   "cell_type": "markdown",
   "metadata": {},
   "source": [
    "### ***LoadDataset***"
   ]
  },
  {
   "cell_type": "code",
   "execution_count": 8,
   "metadata": {},
   "outputs": [],
   "source": [
    "files = glob(\"../data/subtitles/*.ass\")"
   ]
  },
  {
   "cell_type": "code",
   "execution_count": 9,
   "metadata": {},
   "outputs": [
    {
     "data": {
      "text/plain": [
       "['../data/subtitles\\\\Naruto Season 1 - 01.ass',\n",
       " '../data/subtitles\\\\Naruto Season 1 - 02.ass',\n",
       " '../data/subtitles\\\\Naruto Season 1 - 03.ass',\n",
       " '../data/subtitles\\\\Naruto Season 1 - 04.ass',\n",
       " '../data/subtitles\\\\Naruto Season 1 - 05.ass']"
      ]
     },
     "execution_count": 9,
     "metadata": {},
     "output_type": "execute_result"
    }
   ],
   "source": [
    "files[:5]"
   ]
  },
  {
   "cell_type": "code",
   "execution_count": 10,
   "metadata": {},
   "outputs": [],
   "source": [
    "with open(files[0], 'r') as file:\n",
    "    lines = file.readlines()\n",
    "    lines = lines[27:]\n",
    "    lines = [\",\".join(line.split(',')[9:]) for line in lines]"
   ]
  },
  {
   "cell_type": "code",
   "execution_count": 11,
   "metadata": {},
   "outputs": [
    {
     "data": {
      "text/plain": [
       "['A long time ago, a powerful demon fox\\\\Nappeared with nine tails.\\n',\n",
       " 'With its powerful tails,\\n',\n",
       " 'it could smash mountains\\\\Nand create tidal waves.\\n',\n",
       " 'A band of Ninjas rose to\\\\Ndefend their village from attack.\\n',\n",
       " 'We have to wait until\\\\Nthe Fourth Hokage gets here!\\n']"
      ]
     },
     "execution_count": 11,
     "metadata": {},
     "output_type": "execute_result"
    }
   ],
   "source": [
    "lines[:5]"
   ]
  },
  {
   "cell_type": "code",
   "execution_count": 12,
   "metadata": {},
   "outputs": [],
   "source": [
    "lines = [line.replace('\\\\N','') for line in lines]"
   ]
  },
  {
   "cell_type": "code",
   "execution_count": 13,
   "metadata": {},
   "outputs": [
    {
     "data": {
      "text/plain": [
       "['A long time ago, a powerful demon foxappeared with nine tails.\\n',\n",
       " 'With its powerful tails,\\n',\n",
       " 'it could smash mountainsand create tidal waves.\\n',\n",
       " 'A band of Ninjas rose todefend their village from attack.\\n',\n",
       " 'We have to wait untilthe Fourth Hokage gets here!\\n']"
      ]
     },
     "execution_count": 13,
     "metadata": {},
     "output_type": "execute_result"
    }
   ],
   "source": [
    "lines[:5]"
   ]
  },
  {
   "cell_type": "code",
   "execution_count": 14,
   "metadata": {},
   "outputs": [
    {
     "data": {
      "text/plain": [
       "1"
      ]
     },
     "execution_count": 14,
     "metadata": {},
     "output_type": "execute_result"
    }
   ],
   "source": [
    "int(files[0].split('-')[-1].split('.')[0].strip())"
   ]
  },
  {
   "cell_type": "code",
   "execution_count": 15,
   "metadata": {},
   "outputs": [],
   "source": [
    "def load_subtitles_dataset(dataset_path):\n",
    "    subtitles_path = glob(dataset_path+\"/*.ass\")\n",
    "    \n",
    "    scripts = []\n",
    "    episode_num = []\n",
    "\n",
    "    for path in subtitles_path:\n",
    "\n",
    "    # Read Lines\n",
    "        with open(path, 'r') as file:\n",
    "            lines = file.readlines()\n",
    "            lines = lines[27:]\n",
    "            lines = [\",\".join(line.split(',')[9:]) for line in lines]\n",
    "\n",
    "        lines = [line.replace('\\\\N','') for line in lines]\n",
    "        script = \" \".join(lines)\n",
    "\n",
    "        episode = int(path.split('-')[-1].split('.')[0].strip())\n",
    "\n",
    "        scripts.append(script)\n",
    "        episode_num.append(episode)\n",
    "    \n",
    "    df = pd.DataFrame.from_dict({\"episode\":episode_num, \"script\":scripts})\n",
    "    return df"
   ]
  },
  {
   "cell_type": "code",
   "execution_count": 16,
   "metadata": {},
   "outputs": [],
   "source": [
    "dataset_path = \"../data/subtitles\"\n",
    "df = load_subtitles_dataset(dataset_path)\n"
   ]
  },
  {
   "cell_type": "code",
   "execution_count": 17,
   "metadata": {},
   "outputs": [
    {
     "data": {
      "text/html": [
       "<div>\n",
       "<style scoped>\n",
       "    .dataframe tbody tr th:only-of-type {\n",
       "        vertical-align: middle;\n",
       "    }\n",
       "\n",
       "    .dataframe tbody tr th {\n",
       "        vertical-align: top;\n",
       "    }\n",
       "\n",
       "    .dataframe thead th {\n",
       "        text-align: right;\n",
       "    }\n",
       "</style>\n",
       "<table border=\"1\" class=\"dataframe\">\n",
       "  <thead>\n",
       "    <tr style=\"text-align: right;\">\n",
       "      <th></th>\n",
       "      <th>episode</th>\n",
       "      <th>script</th>\n",
       "    </tr>\n",
       "  </thead>\n",
       "  <tbody>\n",
       "    <tr>\n",
       "      <th>0</th>\n",
       "      <td>1</td>\n",
       "      <td>A long time ago, a powerful demon foxappeared ...</td>\n",
       "    </tr>\n",
       "    <tr>\n",
       "      <th>1</th>\n",
       "      <td>2</td>\n",
       "      <td>C'mon!\\n Running like a fugitive,\\n Being chas...</td>\n",
       "    </tr>\n",
       "    <tr>\n",
       "      <th>2</th>\n",
       "      <td>3</td>\n",
       "      <td>C'mon!\\n Running like a fugitive,\\n Being chas...</td>\n",
       "    </tr>\n",
       "    <tr>\n",
       "      <th>3</th>\n",
       "      <td>4</td>\n",
       "      <td>C'mon!\\n Running like a fugitive,\\n Being chas...</td>\n",
       "    </tr>\n",
       "    <tr>\n",
       "      <th>4</th>\n",
       "      <td>5</td>\n",
       "      <td>C'mon!\\n Running like a fugitive,\\n Being chas...</td>\n",
       "    </tr>\n",
       "  </tbody>\n",
       "</table>\n",
       "</div>"
      ],
      "text/plain": [
       "   episode                                             script\n",
       "0        1  A long time ago, a powerful demon foxappeared ...\n",
       "1        2  C'mon!\\n Running like a fugitive,\\n Being chas...\n",
       "2        3  C'mon!\\n Running like a fugitive,\\n Being chas...\n",
       "3        4  C'mon!\\n Running like a fugitive,\\n Being chas...\n",
       "4        5  C'mon!\\n Running like a fugitive,\\n Being chas..."
      ]
     },
     "execution_count": 17,
     "metadata": {},
     "output_type": "execute_result"
    }
   ],
   "source": [
    "df.head()"
   ]
  },
  {
   "cell_type": "markdown",
   "metadata": {},
   "source": [
    "### **Run Model**"
   ]
  },
  {
   "cell_type": "code",
   "execution_count": 18,
   "metadata": {},
   "outputs": [],
   "source": [
    "script = df.iloc[0]['script']"
   ]
  },
  {
   "cell_type": "code",
   "execution_count": 19,
   "metadata": {},
   "outputs": [
    {
     "data": {
      "text/plain": [
       "'A long time ago, a powerful demon foxappeared with nine tails.\\n With its powerful tails,\\n it could smash mountainsand create tidal waves.\\n A band of Ninjas rose todefend their village from attack.\\n We have to wait untilthe Fourth Hokage gets here!\\n We can\\'t let it get any closerto our village!\\n One great Ninja was able toimprison the monster,\\n but died in the process.\\n This Ninja was known as…the Fourth Hokage.\\n Naruto!\\n Why did you do such a thing?!\\n You\\'re really gonna get it this time!\\n I don\\'t care!\\n You know your problem?\\n You can\\'t do the things I do!\\n Only I can do this!\\n I\\'m better than all of you!Believe it!\\n There\\'s a problem, sir!\\n Lord Hokage!\\n What is it?\\n Did that Naruto do something again?\\n Yes. He climbed ontothe Mountainside Images…\\n And he vandalized andgraffitied all over them!\\n Wait!\\n Ha ha…\\n Why should I?\\n Hey, Naruto!\\n How did you suddenly get here,lruka Sensei?\\n The question is what are you doing herewhen you should be in class now?\\n Now listen, Naruto.\\n You failed the last graduation testand the one before that.\\n This is no timeto be goofing off, you fool!\\n We will have a re-test onthe Transformation Jutsu!\\n Even those who already passedwill take it!\\n Whaaaat?!\\n Sakura Haruno. Here I go…\\n Transform!\\n OK!\\n I did it!\\n Cha!\\n Did you see that, Sasuke?\\n Next, Sasuke Uchiha.\\n Yes.\\n O-OK.\\n Next, Naruto Uzumaki.\\n This is a real pain.\\n And it\\'s all your fault.\\n Like I care!!\\n OK…\\n Good luck, Naruto…\\n Transform!\\n How was it?\\n I call it the \"Sexy Jutsu\"!\\n You fool!Stop making idiotic spells!\\n Darn…\\n Darn…\\n I won\\'t let you go homeunless you clean that all up.\\n I don\\'t care…\\n There\\'s nobody home anyway.\\n Naruto...\\n What is it this time?\\n What I meant was…\\n If you clean up all that mess,I\\'ll buy you ramen tonight.\\n Huh?!\\n Yes!I-I will finish it no time!\\n Enter: Naruto Uzumaki!\\n Naruto.\\n Why did you vandalize those faces?\\n Don\\'t you know whothe Hokage leaders are?\\n Of course, I do!\\n I know they earned the titleLord Hokage\\n because they were the best Ninjaof their time, right?\\n Especially the Fourth Hokagewas a hero\\n who saved the village fromthe nine-tail demon fox.\\n Then why did you do that?\\n Because I\\'ll become a Hokage myself.\\n And I\\'ll be the greatest Hokageof all time!\\n So that everyone will finallylearn to accept me!\\n By the way, Sensei,I have a favor to ask.\\n You want another bowl?\\n Mmmm…No…\\n Can I borrow that Leaf headbandfor a while?\\n This?\\n No no!\\n This is worn only by those whohave graduated from Ninja Academy.\\n Tomorrow, you will…\\n You\\'re so mean!\\n So that\\'s why you took offyour goggles…\\n Humph...One more bowl please!\\n We are now about to beginthe graduation test.\\n When your name is called,proceed to the next classroom.\\n The test is on the Clone Jutsu.\\n Oh no…\\n Of all the…! That is my weakest Jutsu!\\n But still…I will do it no matter what!\\n Clone Jutsu!\\n Disqualified!\\n Iruka Sensei.\\n His physical coordinationand stamina are excellent.\\n And he managed to come upwith something.\\n Isn\\'t that enoughfor him to pass?\\n Mizuki Sensei...All the others created three or more clones.\\n Naruto created just one.\\n And it\\'s practically useless.I can\\'t give him a passing mark.\\n I \\'m a Ninja now!\\n You did well. That\\'s my son.\\n Congratulations for your graduation.\\n I\\'ll cook something good tonight!\\n Look at that one.\\n It\\'s that boy.I hear he\\'s the only one who failed.\\n Serves him right.\\n Imagine what would happenif he became a Ninja.\\n Isn\\'t that the boywho is actually…\\n Hey! We\\'re not supposed totalk about that.\\n Iruka.We need to talk later.\\n Yes, sir.\\n Iruka Sensei isn\\'t tryingto be mean to you.\\n Then why only me?\\n He wants you to become strongfrom the bottom of his heart.\\n You both don\\'t have parents.\\n But I really wanted to graduate.\\n Heh... I guess I have no choice…\\n I\\'ll let you in on a big secret.\\n Secret?\\n Iruka.\\n What is it, Lord Hokage?\\n I know how you feel. But…\\n Naruto also grew up without knowingthe love of his parents…like you.\\n Let me go!\\n My mom and dad arestill out there fighting!\\n Wake up, Iruka Sensei!\\n What\\'s the matter?\\n Come to Lord Hokage\\'s immediately!\\n I heard that Naruto…stole the Scroll of Sealing.\\n The Scroll of Sealing?!\\n Let\\'s see…\\n The first Jutsu is…Multi-Shadow Clone Jutsu?\\n What?! Already a Jutsu I\\'m no good at?\\n Lord Hokage!We can\\'t forgive him!\\n This is not just a prank!\\n The Scroll is a dangerous itemthat the First Hokage sealed!\\n Depending on its use…\\n It will be a major disaster ifit is taken out of the village!\\n Yes. Bring Naruto here at once!\\n Yes, sir!\\n Where did you go…Naruto?\\n I will tell everyone in the villageabout this and eliminate Naruto…\\n Then the Scroll of Sealingwill be mine!\\n Hey you, Naruto!\\n You found me..\\n And I\\'ve only learned one Jutsu.\\n He\\'s been practicing the Jutsu…\\n until he\\'s becomethis exhausted and dirty…?\\n Listen, listen!I\\'m gonna show you this amazing Jutsu!\\n You\\'re gonna let me graduateif I can do it!\\n Isn\\'t it true that I can graduate ifI can do one of the Jutsu written here?\\n Who told you that?\\n Mizuki Sensei. He told meabout this scroll, and this place…\\n Mizuki did?!\\n I\\'m impressed you found this place.\\n I see now…how it is.\\n Naruto, give me that scroll.\\n Wait, wait…What\\'s going on here?\\n Naruto! Never give him that scroll!\\n It is a dangerous object that containsforbidden Ninja Jutsu. It was sealed.\\n Mizuki used you in order toget it for himself!\\n W-Wha--?\\n Naruto, Iruka is only afraid ofyou holding that scroll!\\n Huh?\\n What are you saying, Mizuki!Don\\'t let him fool you, Naruto!\\n I will tell you the truth.\\n Idiot! Don\\'t do that!\\n After an incident 12 years ago,a rule was created.\\n A rule?\\n That is, Naruto, a rule everybodybut you knows.\\n Except me?! \\t\\t\\t\\t\\tWhat is it?\\n Stop it, Mizuki!\\n The rule forbids anyone from revealingthat you are actually the Demon Fox Spirit!\\n Huh?\\n You are actually the Demon,Nine-Tailed Fox Spirit,\\n who killed Iruka\\'s parents anddestroyed our village!\\n Stop it!\\n Everyone has beendeceiving you ever since.\\n Didn\\'t you find it strange?\\n Why everyone hated you so much?\\n No! No! No! No! No!\\n Naruto…\\n Nobody accepts you.That\\'s why Iruka hates you so much!\\n Iruka... Naruto grew upwithout the love of parents.\\n Everyone avoids him likethe plague after what happened.\\n That\\'s why he keeps misbehaving.\\n It\\'s the only way for him to getany attention or acknowledgement.\\n He pretends to be tough,but inside he is really hurting.\\n Die, Naruto!\\n Naruto! \\t\\t\\t\\t\\tGet down!\\n Why…?\\n Because you and I are the same.\\n After my parents died,\\n nobody paid attention to meor gave me any support.\\n I wasn\\'t a good student in school.\\n I was the class clown…because I wanted people to notice me.\\n I couldn\\'t get noticed through excellence,so I kept doing stupid things.\\n It was so hard.\\n Isn\\'t that right, Naruto?\\n You felt so lonely…right?And you suffered inside, right?\\n I\\'m sorry, Naruto….\\n If I had been more responsible,maybe you wouldn\\'t have suffered so much.\\n Don\\'t make me laugh!\\n Iruka has always hated you,ever since you killed his parents!\\n He\\'s just saying all thatto get the Scroll of Sealing back!\\n Naruto!\\n Narutoooooo!\\n He is not the type of kidwho will change his mind.\\n He will take revenge againstour village using that scroll!\\n Didn\\'t you see his eyes?Those are the eyes of a Demon Fox.\\n No…Naruto…isn\\'t…like that at all!\\n All I want is to kill Narutoand get the scroll.\\n I\\'ll take care of you later!\\n I-I won\\'t let you…\\n Well, well.\\n Mizuki has a big mouth!\\n Naruto feels worse than he\\'s ever felt.\\n He might unleashthe power locked up inside him.\\n The Scroll of Sealing is now with him.\\n There\\'s a slight chancehe might actually release\\n the Nine-Tailed Fox Spiritsealed inside him!\\n If that happens…\\n I\\'ve found him!\\n Naruto!\\n Everything that Mizuki saidwas a lie!\\n Give me that scroll, quick!Mizuki is after the scroll!\\n It can\\'t be…\\n Why is it, Naruto?\\n How…\\n did you know I wasn\\'t Iruka…?\\n Because I\\'m Iruka.\\n I see.\\n What\\'s in it for you to protectthe one who killed your family?\\n I\\'m not gonna let a stupid idiotlike you get that scroll!\\n You\\'re the idiot.Naruto is the same as me.\\n Same?\\n Anyone can do whateverhe wants once he has the scroll.\\n There is no way that that monster…\\n that Fox Spirit, won\\'t take advantageof the power of that scroll!\\n You\\'re right…\\n I guess it was true all along!\\n See, Iruka Sensei never reallycared for me at all!\\n ...if he was the Demon Fox Spirit.\\n But Naruto is different!\\n I know that he is an exceptional student.\\n He works very hard,\\n and he\\'s single-mindedand clumsy at the same time.\\n No one accepts him, but he knowsthe meaning of human suffering.\\n He is not the Demon Fox Spirit.\\n He\\'s Naruto Uzumaki ofthe Village Hidden in the Leaves!\\n You are so gullible. \\t\\t\\t\\t\\tlruka!\\n I was gonna take you down later,but I have changed my mind.\\n Die!\\n I guess this is the end for me…\\n Naruto?!\\n You surprised me there, freak.\\n If you ever lay a hand on Iruka Sensei,I\\'ll kill you!\\n Shut up! I can take care of a kidlike you with a single blow!\\n Why don\\'t you try then?I\\'ll strike you back a thousand-fold!\\n Let\\'s see you try!Show me what you can do, Demon Fox!\\n Shadow Clone Jutsu!\\n Naruto! You\\'ve…\\n Those aren\\'t just images but actual clones!That\\'s an advanced Ninjutsu!\\n What\\'s this…?\\n What\\'s the matter? \\t\\t\\t\\t\\tC\\'mon!\\n Weren\\'t you gonna get mewith one blow? Here!\\n In that case…I\\'ll come to you.\\n I kinda got carried away.lruka Sensei, are you okay?\\n Yeah.\\n He\\'s really something.\\n Maybe it is true.\\n Maybe he will surpass allthe Hokage leaders…\\n Naruto, come over here.I\\'d like to give you something.\\n Has anyone found Naruto yet?\\n No.\\n Darn, this is going to be bad…\\n There\\'s no need to worry anymore.\\n Lord Hokage!\\n He\\'ll be back soon.\\n Sensei, how much longer?\\n OK, you may open your eyes now.\\n Congratulations…on your graduation.\\n In celebration, we\\'ll have ramen tonight!\\n Iruka Sensei!\\n That hurts!\\n Naruto…\\n I was going to lecture to you...\\n that the road gets more difficultnow that you\\'re a Ninja.\\n But I guess I\\'ll just wait to tell youthat until we get to the ramen stand…\\n W-What do you want, you little shrimp?Quit following me!\\n You\\'re smaller than me and\\n you\\'re saying that you\\'re gonnabecome the Fifth Hokage?\\n I don\\'t care if you are the 3rd Hokage\\'sgrandson or not.\\n It\\'s not that easy to be a Hokage!\\n If you want it that bad,you\\'re gonna have to beat me first!\\n Next episode: \"My Name Is Konohamaru!\"\\n Watch my outstanding performance!\\n'"
      ]
     },
     "execution_count": 19,
     "metadata": {},
     "output_type": "execute_result"
    }
   ],
   "source": [
    "script"
   ]
  },
  {
   "cell_type": "code",
   "execution_count": 20,
   "metadata": {},
   "outputs": [
    {
     "name": "stdout",
     "output_type": "stream",
     "text": [
      "Rutas de NLTK: ['C:\\\\Users\\\\gaova/nltk_data', 'c:\\\\Users\\\\gaova\\\\anaconda3\\\\envs\\\\chatnarutobot\\\\nltk_data', 'c:\\\\Users\\\\gaova\\\\anaconda3\\\\envs\\\\chatnarutobot\\\\share\\\\nltk_data', 'c:\\\\Users\\\\gaova\\\\anaconda3\\\\envs\\\\chatnarutobot\\\\lib\\\\nltk_data', 'C:\\\\Users\\\\gaova\\\\AppData\\\\Roaming\\\\nltk_data', 'C:\\\\nltk_data', 'D:\\\\nltk_data', 'E:\\\\nltk_data']\n",
      "❌ No encontrado en: C:\\Users\\gaova/nltk_data\\tokenizers\\punkt\\PY3\\english.pickle\n",
      "❌ No encontrado en: c:\\Users\\gaova\\anaconda3\\envs\\chatnarutobot\\nltk_data\\tokenizers\\punkt\\PY3\\english.pickle\n",
      "❌ No encontrado en: c:\\Users\\gaova\\anaconda3\\envs\\chatnarutobot\\share\\nltk_data\\tokenizers\\punkt\\PY3\\english.pickle\n",
      "❌ No encontrado en: c:\\Users\\gaova\\anaconda3\\envs\\chatnarutobot\\lib\\nltk_data\\tokenizers\\punkt\\PY3\\english.pickle\n",
      "❌ No encontrado en: C:\\Users\\gaova\\AppData\\Roaming\\nltk_data\\tokenizers\\punkt\\PY3\\english.pickle\n",
      "✅ 'english.pickle' encontrado en: C:\\nltk_data\\tokenizers\\punkt\\PY3\\english.pickle\n",
      "❌ No encontrado en: D:\\nltk_data\\tokenizers\\punkt\\PY3\\english.pickle\n",
      "❌ No encontrado en: E:\\nltk_data\\tokenizers\\punkt\\PY3\\english.pickle\n"
     ]
    },
    {
     "name": "stderr",
     "output_type": "stream",
     "text": [
      "[nltk_data] Downloading package punkt to\n",
      "[nltk_data]     C:\\Users\\gaova\\AppData\\Roaming\\nltk_data...\n",
      "[nltk_data]   Package punkt is already up-to-date!\n"
     ]
    }
   ],
   "source": [
    "import nltk\n",
    "from nltk.tokenize import sent_tokenize\n",
    "\n",
    "\n",
    "\n",
    "import shutil\n",
    "\n",
    "\n",
    "# Borra punkt manualmente si existe\n",
    "punkt_path = os.path.join(nltk.data.find(\"tokenizers\"), \"punkt\")\n",
    "shutil.rmtree(punkt_path, ignore_errors=True)\n",
    "\n",
    "# Descarga nuevamente\n",
    "nltk.download('punkt')\n",
    "\n",
    "\n",
    "\n",
    "\n",
    "import os\n",
    "\n",
    "# Ver todas las rutas donde NLTK busca recursos\n",
    "print(\"Rutas de NLTK:\", nltk.data.path)\n",
    "\n",
    "for path in nltk.data.path:\n",
    "    punkt_path = os.path.join(path, \"tokenizers\", \"punkt\", \"PY3\", \"english.pickle\")\n",
    "    if os.path.exists(punkt_path):\n",
    "        print(f\"✅ 'english.pickle' encontrado en: {punkt_path}\")\n",
    "    else:\n",
    "        print(f\"❌ No encontrado en: {punkt_path}\")\n",
    "\n",
    "\n",
    "\n"
   ]
  },
  {
   "cell_type": "code",
   "execution_count": 21,
   "metadata": {},
   "outputs": [
    {
     "name": "stdout",
     "output_type": "stream",
     "text": [
      "⬇️ Descargando modelo 'punkt' limpio...\n",
      "✅ Descarga completada. Prueba ejecutar tu código otra vez.\n"
     ]
    },
    {
     "name": "stderr",
     "output_type": "stream",
     "text": [
      "[nltk_data] Downloading package punkt to C:/nltk_data...\n",
      "[nltk_data]   Package punkt is already up-to-date!\n"
     ]
    }
   ],
   "source": [
    "import nltk\n",
    "import os\n",
    "\n",
    "# Asegurar que nltk_data tiene la ruta correcta\n",
    "nltk.data.path.append(\"C:/nltk_data\")\n",
    "\n",
    "# Descargar nuevamente\n",
    "print(\"⬇️ Descargando modelo 'punkt' limpio...\")\n",
    "nltk.download(\"punkt\", download_dir=\"C:/nltk_data\")\n",
    "\n",
    "print(\"✅ Descarga completada. Prueba ejecutar tu código otra vez.\")\n"
   ]
  },
  {
   "cell_type": "code",
   "execution_count": 22,
   "metadata": {},
   "outputs": [
    {
     "name": "stderr",
     "output_type": "stream",
     "text": [
      "[nltk_data] Downloading package punkt_tab to C:/nltk_data...\n",
      "[nltk_data]   Package punkt_tab is already up-to-date!\n"
     ]
    },
    {
     "name": "stdout",
     "output_type": "stream",
     "text": [
      "✅ Tokenización exitosa: ['A long time ago, a powerful demon foxappeared with nine tails.', 'With its powerful tails,\\n it could smash mountainsand create tidal waves.', 'A band of Ninjas rose todefend their village from attack.', 'We have to wait untilthe Fourth Hokage gets here!', \"We can't let it get any closerto our village!\", 'One great Ninja was able toimprison the monster,\\n but died in the process.', 'This Ninja was known as…the Fourth Hokage.', 'Naruto!', 'Why did you do such a thing?!', \"You're really gonna get it this time!\", \"I don't care!\", 'You know your problem?', \"You can't do the things I do!\", 'Only I can do this!', \"I'm better than all of you!Believe it!\", \"There's a problem, sir!\", 'Lord Hokage!', 'What is it?', 'Did that Naruto do something again?', 'Yes.', 'He climbed ontothe Mountainside Images…\\n And he vandalized andgraffitied all over them!', 'Wait!', 'Ha ha…\\n Why should I?', 'Hey, Naruto!', 'How did you suddenly get here,lruka Sensei?', 'The question is what are you doing herewhen you should be in class now?', 'Now listen, Naruto.', 'You failed the last graduation testand the one before that.', 'This is no timeto be goofing off, you fool!', 'We will have a re-test onthe Transformation Jutsu!', 'Even those who already passedwill take it!', 'Whaaaat?!', 'Sakura Haruno.', 'Here I go…\\n Transform!', 'OK!', 'I did it!', 'Cha!', 'Did you see that, Sasuke?', 'Next, Sasuke Uchiha.', 'Yes.', 'O-OK.\\n Next, Naruto Uzumaki.', 'This is a real pain.', \"And it's all your fault.\", 'Like I care!!', 'OK…\\n Good luck, Naruto…\\n Transform!', 'How was it?', 'I call it the \"Sexy Jutsu\"!', 'You fool!Stop making idiotic spells!', \"Darn…\\n Darn…\\n I won't let you go homeunless you clean that all up.\", \"I don't care…\\n There's nobody home anyway.\", 'Naruto...\\n What is it this time?', \"What I meant was…\\n If you clean up all that mess,I'll buy you ramen tonight.\", 'Huh?!', 'Yes!I-I will finish it no time!', 'Enter: Naruto Uzumaki!', 'Naruto.', 'Why did you vandalize those faces?', \"Don't you know whothe Hokage leaders are?\", 'Of course, I do!', 'I know they earned the titleLord Hokage\\n because they were the best Ninjaof their time, right?', 'Especially the Fourth Hokagewas a hero\\n who saved the village fromthe nine-tail demon fox.', 'Then why did you do that?', \"Because I'll become a Hokage myself.\", \"And I'll be the greatest Hokageof all time!\", 'So that everyone will finallylearn to accept me!', 'By the way, Sensei,I have a favor to ask.', 'You want another bowl?', 'Mmmm…No…\\n Can I borrow that Leaf headbandfor a while?', 'This?', 'No no!', 'This is worn only by those whohave graduated from Ninja Academy.', \"Tomorrow, you will…\\n You're so mean!\", \"So that's why you took offyour goggles…\\n Humph...One more bowl please!\", 'We are now about to beginthe graduation test.', 'When your name is called,proceed to the next classroom.', 'The test is on the Clone Jutsu.', 'Oh no…\\n Of all the…!', 'That is my weakest Jutsu!', 'But still…I will do it no matter what!', 'Clone Jutsu!', 'Disqualified!', 'Iruka Sensei.', 'His physical coordinationand stamina are excellent.', 'And he managed to come upwith something.', \"Isn't that enoughfor him to pass?\", 'Mizuki Sensei...All the others created three or more clones.', 'Naruto created just one.', \"And it's practically useless.I can't give him a passing mark.\", \"I 'm a Ninja now!\", 'You did well.', \"That's my son.\", 'Congratulations for your graduation.', \"I'll cook something good tonight!\", 'Look at that one.', \"It's that boy.I hear he's the only one who failed.\", 'Serves him right.', 'Imagine what would happenif he became a Ninja.', \"Isn't that the boywho is actually…\\n Hey!\", \"We're not supposed totalk about that.\", 'Iruka.We need to talk later.', 'Yes, sir.', \"Iruka Sensei isn't tryingto be mean to you.\", 'Then why only me?', 'He wants you to become strongfrom the bottom of his heart.', \"You both don't have parents.\", 'But I really wanted to graduate.', 'Heh...', \"I guess I have no choice…\\n I'll let you in on a big secret.\", 'Secret?', 'Iruka.', 'What is it, Lord Hokage?', 'I know how you feel.', 'But…\\n Naruto also grew up without knowingthe love of his parents…like you.', 'Let me go!', 'My mom and dad arestill out there fighting!', 'Wake up, Iruka Sensei!', \"What's the matter?\", \"Come to Lord Hokage's immediately!\", 'I heard that Naruto…stole the Scroll of Sealing.', 'The Scroll of Sealing?!', \"Let's see…\\n The first Jutsu is…Multi-Shadow Clone Jutsu?\", 'What?!', \"Already a Jutsu I'm no good at?\", \"Lord Hokage!We can't forgive him!\", 'This is not just a prank!', 'The Scroll is a dangerous itemthat the First Hokage sealed!', 'Depending on its use…\\n It will be a major disaster ifit is taken out of the village!', 'Yes.', 'Bring Naruto here at once!', 'Yes, sir!', 'Where did you go…Naruto?', 'I will tell everyone in the villageabout this and eliminate Naruto…\\n Then the Scroll of Sealingwill be mine!', 'Hey you, Naruto!', \"You found me..\\n And I've only learned one Jutsu.\", \"He's been practicing the Jutsu…\\n until he's becomethis exhausted and dirty…?\", \"Listen, listen!I'm gonna show you this amazing Jutsu!\", \"You're gonna let me graduateif I can do it!\", \"Isn't it true that I can graduate ifI can do one of the Jutsu written here?\", 'Who told you that?', 'Mizuki Sensei.', 'He told meabout this scroll, and this place…\\n Mizuki did?!', \"I'm impressed you found this place.\", 'I see now…how it is.', 'Naruto, give me that scroll.', \"Wait, wait…What's going on here?\", 'Naruto!', 'Never give him that scroll!', 'It is a dangerous object that containsforbidden Ninja Jutsu.', 'It was sealed.', 'Mizuki used you in order toget it for himself!', 'W-Wha--?', 'Naruto, Iruka is only afraid ofyou holding that scroll!', 'Huh?', \"What are you saying, Mizuki!Don't let him fool you, Naruto!\", 'I will tell you the truth.', 'Idiot!', \"Don't do that!\", 'After an incident 12 years ago,a rule was created.', 'A rule?', 'That is, Naruto, a rule everybodybut you knows.', 'Except me?!', 'What is it?', 'Stop it, Mizuki!', 'The rule forbids anyone from revealingthat you are actually the Demon Fox Spirit!', 'Huh?', \"You are actually the Demon,Nine-Tailed Fox Spirit,\\n who killed Iruka's parents anddestroyed our village!\", 'Stop it!', 'Everyone has beendeceiving you ever since.', \"Didn't you find it strange?\", 'Why everyone hated you so much?', 'No!', 'No!', 'No!', 'No!', 'No!', \"Naruto…\\n Nobody accepts you.That's why Iruka hates you so much!\", 'Iruka... Naruto grew upwithout the love of parents.', 'Everyone avoids him likethe plague after what happened.', \"That's why he keeps misbehaving.\", \"It's the only way for him to getany attention or acknowledgement.\", 'He pretends to be tough,but inside he is really hurting.', 'Die, Naruto!', 'Naruto!', 'Get down!', 'Why…?', 'Because you and I are the same.', 'After my parents died,\\n nobody paid attention to meor gave me any support.', \"I wasn't a good student in school.\", 'I was the class clown…because I wanted people to notice me.', \"I couldn't get noticed through excellence,so I kept doing stupid things.\", 'It was so hard.', \"Isn't that right, Naruto?\", 'You felt so lonely…right?And you suffered inside, right?', \"I'm sorry, Naruto….\", \"If I had been more responsible,maybe you wouldn't have suffered so much.\", \"Don't make me laugh!\", 'Iruka has always hated you,ever since you killed his parents!', \"He's just saying all thatto get the Scroll of Sealing back!\", 'Naruto!', 'Narutoooooo!', 'He is not the type of kidwho will change his mind.', 'He will take revenge againstour village using that scroll!', \"Didn't you see his eyes?Those are the eyes of a Demon Fox.\", \"No…Naruto…isn't…like that at all!\", 'All I want is to kill Narutoand get the scroll.', \"I'll take care of you later!\", \"I-I won't let you…\\n Well, well.\", 'Mizuki has a big mouth!', \"Naruto feels worse than he's ever felt.\", 'He might unleashthe power locked up inside him.', 'The Scroll of Sealing is now with him.', \"There's a slight chancehe might actually release\\n the Nine-Tailed Fox Spiritsealed inside him!\", \"If that happens…\\n I've found him!\", 'Naruto!', 'Everything that Mizuki saidwas a lie!', 'Give me that scroll, quick!Mizuki is after the scroll!', \"It can't be…\\n Why is it, Naruto?\", \"How…\\n did you know I wasn't Iruka…?\", \"Because I'm Iruka.\", 'I see.', \"What's in it for you to protectthe one who killed your family?\", \"I'm not gonna let a stupid idiotlike you get that scroll!\", \"You're the idiot.Naruto is the same as me.\", 'Same?', 'Anyone can do whateverhe wants once he has the scroll.', \"There is no way that that monster…\\n that Fox Spirit, won't take advantageof the power of that scroll!\", \"You're right…\\n I guess it was true all along!\", 'See, Iruka Sensei never reallycared for me at all!', '...if he was the Demon Fox Spirit.', 'But Naruto is different!', 'I know that he is an exceptional student.', \"He works very hard,\\n and he's single-mindedand clumsy at the same time.\", 'No one accepts him, but he knowsthe meaning of human suffering.', 'He is not the Demon Fox Spirit.', \"He's Naruto Uzumaki ofthe Village Hidden in the Leaves!\", 'You are so gullible.', 'lruka!', 'I was gonna take you down later,but I have changed my mind.', 'Die!', 'I guess this is the end for me…\\n Naruto?!', 'You surprised me there, freak.', \"If you ever lay a hand on Iruka Sensei,I'll kill you!\", 'Shut up!', 'I can take care of a kidlike you with a single blow!', \"Why don't you try then?I'll strike you back a thousand-fold!\", \"Let's see you try!Show me what you can do, Demon Fox!\", 'Shadow Clone Jutsu!', 'Naruto!', \"You've…\\n Those aren't just images but actual clones!That's an advanced Ninjutsu!\", \"What's this…?\", \"What's the matter?\", \"C'mon!\", \"Weren't you gonna get mewith one blow?\", 'Here!', \"In that case…I'll come to you.\", 'I kinda got carried away.lruka Sensei, are you okay?', 'Yeah.', \"He's really something.\", 'Maybe it is true.', \"Maybe he will surpass allthe Hokage leaders…\\n Naruto, come over here.I'd like to give you something.\", 'Has anyone found Naruto yet?', 'No.', \"Darn, this is going to be bad…\\n There's no need to worry anymore.\", 'Lord Hokage!', \"He'll be back soon.\", 'Sensei, how much longer?', 'OK, you may open your eyes now.', 'Congratulations…on your graduation.', \"In celebration, we'll have ramen tonight!\", 'Iruka Sensei!', 'That hurts!', \"Naruto…\\n I was going to lecture to you...\\n that the road gets more difficultnow that you're a Ninja.\", \"But I guess I'll just wait to tell youthat until we get to the ramen stand…\\n W-What do you want, you little shrimp?Quit following me!\", \"You're smaller than me and\\n you're saying that you're gonnabecome the Fifth Hokage?\", \"I don't care if you are the 3rd Hokage'sgrandson or not.\", \"It's not that easy to be a Hokage!\", \"If you want it that bad,you're gonna have to beat me first!\", 'Next episode: \"My Name Is Konohamaru!\"', 'Watch my outstanding performance!']\n"
     ]
    }
   ],
   "source": [
    "import nltk\n",
    "from nltk.tokenize import sent_tokenize\n",
    "\n",
    "nltk.data.path.append(\"C:/nltk_data\")  # Asegurar la ruta\n",
    "\n",
    "# Descargar el recurso 'punkt_tab'\n",
    "nltk.download('punkt_tab', download_dir=\"C:/nltk_data\")\n",
    "\n",
    "\n",
    "script_sentences = sent_tokenize(script)\n",
    "\n",
    "print(\"✅ Tokenización exitosa:\", script_sentences)\n"
   ]
  },
  {
   "cell_type": "code",
   "execution_count": 23,
   "metadata": {},
   "outputs": [
    {
     "data": {
      "text/plain": [
       "['A long time ago, a powerful demon foxappeared with nine tails.',\n",
       " 'With its powerful tails,\\n it could smash mountainsand create tidal waves.',\n",
       " 'A band of Ninjas rose todefend their village from attack.']"
      ]
     },
     "execution_count": 23,
     "metadata": {},
     "output_type": "execute_result"
    }
   ],
   "source": [
    "script_sentences[:3]"
   ]
  },
  {
   "cell_type": "code",
   "execution_count": 24,
   "metadata": {},
   "outputs": [],
   "source": [
    "#Batch Sentence\n",
    "sentence_batch_size = 20\n",
    "script_batches = []\n",
    "for index in range(0, len(script_sentences), sentence_batch_size):\n",
    "    sent = \" \".join(script_sentences[index:index+sentence_batch_size])\n",
    "    script_batches.append(sent)\n",
    "   "
   ]
  },
  {
   "cell_type": "code",
   "execution_count": 25,
   "metadata": {},
   "outputs": [
    {
     "data": {
      "text/plain": [
       "[\"A long time ago, a powerful demon foxappeared with nine tails. With its powerful tails,\\n it could smash mountainsand create tidal waves. A band of Ninjas rose todefend their village from attack. We have to wait untilthe Fourth Hokage gets here! We can't let it get any closerto our village! One great Ninja was able toimprison the monster,\\n but died in the process. This Ninja was known as…the Fourth Hokage. Naruto! Why did you do such a thing?! You're really gonna get it this time! I don't care! You know your problem? You can't do the things I do! Only I can do this! I'm better than all of you!Believe it! There's a problem, sir! Lord Hokage! What is it? Did that Naruto do something again? Yes.\",\n",
       " 'He climbed ontothe Mountainside Images…\\n And he vandalized andgraffitied all over them! Wait! Ha ha…\\n Why should I? Hey, Naruto! How did you suddenly get here,lruka Sensei? The question is what are you doing herewhen you should be in class now? Now listen, Naruto. You failed the last graduation testand the one before that. This is no timeto be goofing off, you fool! We will have a re-test onthe Transformation Jutsu! Even those who already passedwill take it! Whaaaat?! Sakura Haruno. Here I go…\\n Transform! OK! I did it! Cha! Did you see that, Sasuke? Next, Sasuke Uchiha. Yes.']"
      ]
     },
     "execution_count": 25,
     "metadata": {},
     "output_type": "execute_result"
    }
   ],
   "source": [
    "script_batches[:2]"
   ]
  },
  {
   "cell_type": "code",
   "execution_count": 26,
   "metadata": {},
   "outputs": [],
   "source": [
    "theme_output = theme_classifier(\n",
    "    script_batches[:2],\n",
    "    theme_list,\n",
    "    multi_label=True\n",
    ")"
   ]
  },
  {
   "cell_type": "code",
   "execution_count": 27,
   "metadata": {},
   "outputs": [
    {
     "data": {
      "text/plain": [
       "[{'sequence': \"A long time ago, a powerful demon foxappeared with nine tails. With its powerful tails,\\n it could smash mountainsand create tidal waves. A band of Ninjas rose todefend their village from attack. We have to wait untilthe Fourth Hokage gets here! We can't let it get any closerto our village! One great Ninja was able toimprison the monster,\\n but died in the process. This Ninja was known as…the Fourth Hokage. Naruto! Why did you do such a thing?! You're really gonna get it this time! I don't care! You know your problem? You can't do the things I do! Only I can do this! I'm better than all of you!Believe it! There's a problem, sir! Lord Hokage! What is it? Did that Naruto do something again? Yes.\",\n",
       "  'labels': ['dialogue',\n",
       "   'betrayal',\n",
       "   'battle',\n",
       "   'self development',\n",
       "   'sacrifice',\n",
       "   'hope',\n",
       "   'friendship',\n",
       "   'love'],\n",
       "  'scores': [0.9732495546340942,\n",
       "   0.9437206387519836,\n",
       "   0.84869784116745,\n",
       "   0.7226597666740417,\n",
       "   0.6995745897293091,\n",
       "   0.15611553192138672,\n",
       "   0.05113109573721886,\n",
       "   0.04421418160200119]},\n",
       " {'sequence': 'He climbed ontothe Mountainside Images…\\n And he vandalized andgraffitied all over them! Wait! Ha ha…\\n Why should I? Hey, Naruto! How did you suddenly get here,lruka Sensei? The question is what are you doing herewhen you should be in class now? Now listen, Naruto. You failed the last graduation testand the one before that. This is no timeto be goofing off, you fool! We will have a re-test onthe Transformation Jutsu! Even those who already passedwill take it! Whaaaat?! Sakura Haruno. Here I go…\\n Transform! OK! I did it! Cha! Did you see that, Sasuke? Next, Sasuke Uchiha. Yes.',\n",
       "  'labels': ['dialogue',\n",
       "   'self development',\n",
       "   'battle',\n",
       "   'sacrifice',\n",
       "   'betrayal',\n",
       "   'hope',\n",
       "   'friendship',\n",
       "   'love'],\n",
       "  'scores': [0.9010843634605408,\n",
       "   0.781371533870697,\n",
       "   0.5074164867401123,\n",
       "   0.4107038974761963,\n",
       "   0.31804290413856506,\n",
       "   0.12174125760793686,\n",
       "   0.07042019069194794,\n",
       "   0.01475370954722166]}]"
      ]
     },
     "execution_count": 27,
     "metadata": {},
     "output_type": "execute_result"
    }
   ],
   "source": [
    "theme_output"
   ]
  },
  {
   "cell_type": "code",
   "execution_count": 28,
   "metadata": {},
   "outputs": [],
   "source": [
    "#Wrangle output\n",
    "theme = {}\n",
    "for output in theme_output:\n",
    "    for label, score in zip(output['labels'], output['scores']):\n",
    "        if label not in theme:\n",
    "           theme[label] = []\n",
    "        theme[label].append(score)"
   ]
  },
  {
   "cell_type": "code",
   "execution_count": 29,
   "metadata": {},
   "outputs": [],
   "source": [
    "themes = {key: np.mean(np.array(value)) for key, value in theme.items()}"
   ]
  },
  {
   "cell_type": "code",
   "execution_count": 30,
   "metadata": {},
   "outputs": [
    {
     "data": {
      "text/plain": [
       "{'dialogue': np.float64(0.9371669590473175),\n",
       " 'betrayal': np.float64(0.6308817714452744),\n",
       " 'battle': np.float64(0.6780571639537811),\n",
       " 'self development': np.float64(0.7520156502723694),\n",
       " 'sacrifice': np.float64(0.5551392436027527),\n",
       " 'hope': np.float64(0.1389283947646618),\n",
       " 'friendship': np.float64(0.0607756432145834),\n",
       " 'love': np.float64(0.029483945574611425)}"
      ]
     },
     "execution_count": 30,
     "metadata": {},
     "output_type": "execute_result"
    }
   ],
   "source": [
    "themes"
   ]
  },
  {
   "cell_type": "code",
   "execution_count": 31,
   "metadata": {},
   "outputs": [],
   "source": [
    "def get_theme_inference(script):\n",
    "    script_sentences = sent_tokenize(script)\n",
    "\n",
    "    # Batch Sentence\n",
    "    sentence_batch_size = 20\n",
    "    script_batches = []\n",
    "    for index in range(0, len(script_sentences), sentence_batch_size):\n",
    "        sent = \" \".join(script_sentences[index:index + sentence_batch_size])\n",
    "        script_batches.append(sent)\n",
    "    \n",
    "    # Run Model\n",
    "    theme_output = theme_classifier(\n",
    "        script_batches,\n",
    "        theme_list,\n",
    "        multi_label=True\n",
    "    )\n",
    "\n",
    "    # Wrangle output\n",
    "    theme = {}\n",
    "    for output in theme_output:\n",
    "        for label, score in zip(output['labels'], output['scores']):\n",
    "            if label not in theme:\n",
    "                theme[label] = []\n",
    "            theme[label].append(score)\n",
    "    theme = {key: np.mean(np.array(value)) for key, value in theme.items()}\n",
    "\n",
    "    return theme"
   ]
  },
  {
   "cell_type": "code",
   "execution_count": 32,
   "metadata": {},
   "outputs": [],
   "source": [
    "df = df.head(2)"
   ]
  },
  {
   "cell_type": "code",
   "execution_count": 33,
   "metadata": {},
   "outputs": [
    {
     "data": {
      "text/html": [
       "<div>\n",
       "<style scoped>\n",
       "    .dataframe tbody tr th:only-of-type {\n",
       "        vertical-align: middle;\n",
       "    }\n",
       "\n",
       "    .dataframe tbody tr th {\n",
       "        vertical-align: top;\n",
       "    }\n",
       "\n",
       "    .dataframe thead th {\n",
       "        text-align: right;\n",
       "    }\n",
       "</style>\n",
       "<table border=\"1\" class=\"dataframe\">\n",
       "  <thead>\n",
       "    <tr style=\"text-align: right;\">\n",
       "      <th></th>\n",
       "      <th>episode</th>\n",
       "      <th>script</th>\n",
       "    </tr>\n",
       "  </thead>\n",
       "  <tbody>\n",
       "    <tr>\n",
       "      <th>0</th>\n",
       "      <td>1</td>\n",
       "      <td>A long time ago, a powerful demon foxappeared ...</td>\n",
       "    </tr>\n",
       "    <tr>\n",
       "      <th>1</th>\n",
       "      <td>2</td>\n",
       "      <td>C'mon!\\n Running like a fugitive,\\n Being chas...</td>\n",
       "    </tr>\n",
       "  </tbody>\n",
       "</table>\n",
       "</div>"
      ],
      "text/plain": [
       "   episode                                             script\n",
       "0        1  A long time ago, a powerful demon foxappeared ...\n",
       "1        2  C'mon!\\n Running like a fugitive,\\n Being chas..."
      ]
     },
     "execution_count": 33,
     "metadata": {},
     "output_type": "execute_result"
    }
   ],
   "source": [
    "df"
   ]
  },
  {
   "cell_type": "code",
   "execution_count": 34,
   "metadata": {},
   "outputs": [],
   "source": [
    "output_themes = df['script'].apply(get_theme_inference)"
   ]
  },
  {
   "cell_type": "code",
   "execution_count": 35,
   "metadata": {},
   "outputs": [
    {
     "data": {
      "text/plain": [
       "0    {'dialogue': 0.9149834939411708, 'betrayal': 0...\n",
       "1    {'dialogue': 0.7904216008526939, 'sacrifice': ...\n",
       "Name: script, dtype: object"
      ]
     },
     "execution_count": 35,
     "metadata": {},
     "output_type": "execute_result"
    }
   ],
   "source": [
    "output_themes"
   ]
  },
  {
   "cell_type": "code",
   "execution_count": 36,
   "metadata": {},
   "outputs": [],
   "source": [
    "theme_df = pd.DataFrame(output_themes.tolist())"
   ]
  },
  {
   "cell_type": "code",
   "execution_count": 37,
   "metadata": {},
   "outputs": [],
   "source": [
    "df[theme_df.columns] = theme_df"
   ]
  },
  {
   "cell_type": "code",
   "execution_count": 38,
   "metadata": {},
   "outputs": [
    {
     "data": {
      "text/html": [
       "<div>\n",
       "<style scoped>\n",
       "    .dataframe tbody tr th:only-of-type {\n",
       "        vertical-align: middle;\n",
       "    }\n",
       "\n",
       "    .dataframe tbody tr th {\n",
       "        vertical-align: top;\n",
       "    }\n",
       "\n",
       "    .dataframe thead th {\n",
       "        text-align: right;\n",
       "    }\n",
       "</style>\n",
       "<table border=\"1\" class=\"dataframe\">\n",
       "  <thead>\n",
       "    <tr style=\"text-align: right;\">\n",
       "      <th></th>\n",
       "      <th>episode</th>\n",
       "      <th>script</th>\n",
       "      <th>dialogue</th>\n",
       "      <th>betrayal</th>\n",
       "      <th>battle</th>\n",
       "      <th>self development</th>\n",
       "      <th>sacrifice</th>\n",
       "      <th>hope</th>\n",
       "      <th>friendship</th>\n",
       "      <th>love</th>\n",
       "    </tr>\n",
       "  </thead>\n",
       "  <tbody>\n",
       "    <tr>\n",
       "      <th>0</th>\n",
       "      <td>1</td>\n",
       "      <td>A long time ago, a powerful demon foxappeared ...</td>\n",
       "      <td>0.914983</td>\n",
       "      <td>0.820408</td>\n",
       "      <td>0.704037</td>\n",
       "      <td>0.749671</td>\n",
       "      <td>0.709308</td>\n",
       "      <td>0.359903</td>\n",
       "      <td>0.283641</td>\n",
       "      <td>0.201032</td>\n",
       "    </tr>\n",
       "    <tr>\n",
       "      <th>1</th>\n",
       "      <td>2</td>\n",
       "      <td>C'mon!\\n Running like a fugitive,\\n Being chas...</td>\n",
       "      <td>0.790422</td>\n",
       "      <td>0.292205</td>\n",
       "      <td>0.550060</td>\n",
       "      <td>0.624064</td>\n",
       "      <td>0.547790</td>\n",
       "      <td>0.369138</td>\n",
       "      <td>0.168765</td>\n",
       "      <td>0.088975</td>\n",
       "    </tr>\n",
       "  </tbody>\n",
       "</table>\n",
       "</div>"
      ],
      "text/plain": [
       "   episode                                             script  dialogue  \\\n",
       "0        1  A long time ago, a powerful demon foxappeared ...  0.914983   \n",
       "1        2  C'mon!\\n Running like a fugitive,\\n Being chas...  0.790422   \n",
       "\n",
       "   betrayal    battle  self development  sacrifice      hope  friendship  \\\n",
       "0  0.820408  0.704037          0.749671   0.709308  0.359903    0.283641   \n",
       "1  0.292205  0.550060          0.624064   0.547790  0.369138    0.168765   \n",
       "\n",
       "       love  \n",
       "0  0.201032  \n",
       "1  0.088975  "
      ]
     },
     "execution_count": 38,
     "metadata": {},
     "output_type": "execute_result"
    }
   ],
   "source": [
    "df"
   ]
  },
  {
   "cell_type": "markdown",
   "metadata": {},
   "source": [
    "## Visualize Output"
   ]
  },
  {
   "cell_type": "code",
   "execution_count": 41,
   "metadata": {},
   "outputs": [],
   "source": [
    "df=df.drop('dialogue', axis=1)"
   ]
  },
  {
   "cell_type": "code",
   "execution_count": 44,
   "metadata": {},
   "outputs": [
    {
     "data": {
      "text/html": [
       "<div>\n",
       "<style scoped>\n",
       "    .dataframe tbody tr th:only-of-type {\n",
       "        vertical-align: middle;\n",
       "    }\n",
       "\n",
       "    .dataframe tbody tr th {\n",
       "        vertical-align: top;\n",
       "    }\n",
       "\n",
       "    .dataframe thead th {\n",
       "        text-align: right;\n",
       "    }\n",
       "</style>\n",
       "<table border=\"1\" class=\"dataframe\">\n",
       "  <thead>\n",
       "    <tr style=\"text-align: right;\">\n",
       "      <th></th>\n",
       "      <th>theme</th>\n",
       "      <th>score</th>\n",
       "    </tr>\n",
       "  </thead>\n",
       "  <tbody>\n",
       "    <tr>\n",
       "      <th>0</th>\n",
       "      <td>betrayal</td>\n",
       "      <td>1.112613</td>\n",
       "    </tr>\n",
       "    <tr>\n",
       "      <th>1</th>\n",
       "      <td>battle</td>\n",
       "      <td>1.254097</td>\n",
       "    </tr>\n",
       "    <tr>\n",
       "      <th>2</th>\n",
       "      <td>self development</td>\n",
       "      <td>1.373735</td>\n",
       "    </tr>\n",
       "    <tr>\n",
       "      <th>3</th>\n",
       "      <td>sacrifice</td>\n",
       "      <td>1.257099</td>\n",
       "    </tr>\n",
       "    <tr>\n",
       "      <th>4</th>\n",
       "      <td>hope</td>\n",
       "      <td>0.729041</td>\n",
       "    </tr>\n",
       "    <tr>\n",
       "      <th>5</th>\n",
       "      <td>friendship</td>\n",
       "      <td>0.452407</td>\n",
       "    </tr>\n",
       "    <tr>\n",
       "      <th>6</th>\n",
       "      <td>love</td>\n",
       "      <td>0.290007</td>\n",
       "    </tr>\n",
       "  </tbody>\n",
       "</table>\n",
       "</div>"
      ],
      "text/plain": [
       "              theme     score\n",
       "0          betrayal  1.112613\n",
       "1            battle  1.254097\n",
       "2  self development  1.373735\n",
       "3         sacrifice  1.257099\n",
       "4              hope  0.729041\n",
       "5        friendship  0.452407\n",
       "6              love  0.290007"
      ]
     },
     "execution_count": 44,
     "metadata": {},
     "output_type": "execute_result"
    }
   ],
   "source": [
    "theme_output = df.drop(['episode','script'], axis=1).sum().reset_index()\n",
    "theme_output.columns = ['theme','score']\n",
    "theme_output"
   ]
  },
  {
   "cell_type": "code",
   "execution_count": 47,
   "metadata": {},
   "outputs": [],
   "source": [
    "import matplotlib.pyplot as plt\n",
    "import seaborn as sns\n"
   ]
  },
  {
   "cell_type": "code",
   "execution_count": 49,
   "metadata": {},
   "outputs": [
    {
     "data": {
      "image/png": "[encoded data removed]",
      "text/plain": [
       "<Figure size 640x480 with 1 Axes>"
      ]
     },
     "metadata": {},
     "output_type": "display_data"
    }
   ],
   "source": [
    "sns.barplot(data = theme_output, x = 'theme', y = 'score')\n",
    "plt.xticks(rotation=45)\n",
    "plt.show()"
   ]
  },
  {
   "cell_type": "code",
   "execution_count": null,
   "metadata": {},
   "outputs": [],
   "source": []
  }
 ],
 "metadata": {
  "kernelspec": {
   "display_name": "chatnarutobot",
   "language": "python",
   "name": "python3"
  },
  "language_info": {
   "codemirror_mode": {
    "name": "ipython",
    "version": 3
   },
   "file_extension": ".py",
   "mimetype": "text/x-python",
   "name": "python",
   "nbconvert_exporter": "python",
   "pygments_lexer": "ipython3",
   "version": "3.10.16"
  }
 },
 "nbformat": 4,
 "nbformat_minor": 2
}
